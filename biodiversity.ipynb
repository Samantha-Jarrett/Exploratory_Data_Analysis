{
 "cells": [
  {
   "cell_type": "markdown",
   "metadata": {},
   "source": [
    "# Biodiversity in National Parks\n",
    "The goal of this project is to anaylze data on the conservation statuses of endangered species and investigate if there are any patterns or themes to the types of species that become endangered.\n",
    "\n",
    "This project will seek to answer the following questions:\n",
    "- What is the distribution of conservation status for species?\n",
    "- Are certain types of species more likely to be protected?\n",
    "- Are the differences between species and their conservation status significant?\n",
    "- Where were the most species observed? What was the most observed species?\n",
    "\n",
    "#### Data Sources\n",
    "Both Observations.csv and Species_info.csv were provided by [Codecademy.com](https://www.codecademy.com).\n",
    "\n",
    "Note: The data for this project is inspired by real data, but is mostly fictional.\n",
    "\n",
    "This project was completed as part of the Codecademy Data Science Career Path Certificate program. "
   ]
  },
  {
   "cell_type": "markdown",
   "metadata": {},
   "source": [
    "## Import Libraries\n",
    "Import pandas, pyplot, and seaborn to support data manipulation and visualization."
   ]
  },
  {
   "cell_type": "code",
   "execution_count": 1,
   "metadata": {},
   "outputs": [],
   "source": [
    "import pandas as pd\n",
    "from matplotlib import pyplot as plt\n",
    "import seaborn as sns"
   ]
  },
  {
   "cell_type": "markdown",
   "metadata": {},
   "source": [
    "## Load the Data\n",
    "The data provided for the project was saved to two csv files named **species_info.csv** and **observations.csv**. The following code reads the data and saves each csv file's data to a dataframe."
   ]
  },
  {
   "cell_type": "markdown",
   "metadata": {},
   "source": [
    "#### species\n",
    "The species dataframe contains data about different species and their conservation status.\n",
    "\n",
    "The columns in the dataset include:\n",
    "- **category** - class of animal\n",
    "- **scientific_name** - the scientific name of each species\n",
    "- **common_name** - the common names of each species\n",
    "- **conservation_status** - each species’ current conservation status"
   ]
  },
  {
   "cell_type": "code",
   "execution_count": 2,
   "metadata": {},
   "outputs": [
    {
     "data": {
      "text/html": [
       "<div>\n",
       "<style scoped>\n",
       "    .dataframe tbody tr th:only-of-type {\n",
       "        vertical-align: middle;\n",
       "    }\n",
       "\n",
       "    .dataframe tbody tr th {\n",
       "        vertical-align: top;\n",
       "    }\n",
       "\n",
       "    .dataframe thead th {\n",
       "        text-align: right;\n",
       "    }\n",
       "</style>\n",
       "<table border=\"1\" class=\"dataframe\">\n",
       "  <thead>\n",
       "    <tr style=\"text-align: right;\">\n",
       "      <th></th>\n",
       "      <th>category</th>\n",
       "      <th>scientific_name</th>\n",
       "      <th>common_names</th>\n",
       "      <th>conservation_status</th>\n",
       "    </tr>\n",
       "  </thead>\n",
       "  <tbody>\n",
       "    <tr>\n",
       "      <th>1501</th>\n",
       "      <td>Vascular Plant</td>\n",
       "      <td>Galium circaezans</td>\n",
       "      <td>Wild Licorice</td>\n",
       "      <td>NaN</td>\n",
       "    </tr>\n",
       "    <tr>\n",
       "      <th>1771</th>\n",
       "      <td>Vascular Plant</td>\n",
       "      <td>Acalypha virginica</td>\n",
       "      <td>Virginia Copperleaf, Virginia Threeseed Mercury</td>\n",
       "      <td>NaN</td>\n",
       "    </tr>\n",
       "    <tr>\n",
       "      <th>3090</th>\n",
       "      <td>Bird</td>\n",
       "      <td>Bucephala islandica</td>\n",
       "      <td>Barrow's Goldeneye</td>\n",
       "      <td>NaN</td>\n",
       "    </tr>\n",
       "    <tr>\n",
       "      <th>5206</th>\n",
       "      <td>Vascular Plant</td>\n",
       "      <td>Asclepias californica</td>\n",
       "      <td>California Milkweed, Round-Hood Milkweed, Wool...</td>\n",
       "      <td>NaN</td>\n",
       "    </tr>\n",
       "    <tr>\n",
       "      <th>3849</th>\n",
       "      <td>Vascular Plant</td>\n",
       "      <td>Hedysarum alpinum var. americanum</td>\n",
       "      <td>American Alpine Sweetvetch</td>\n",
       "      <td>NaN</td>\n",
       "    </tr>\n",
       "  </tbody>\n",
       "</table>\n",
       "</div>"
      ],
      "text/plain": [
       "            category                    scientific_name  \\\n",
       "1501  Vascular Plant                  Galium circaezans   \n",
       "1771  Vascular Plant                 Acalypha virginica   \n",
       "3090            Bird                Bucephala islandica   \n",
       "5206  Vascular Plant              Asclepias californica   \n",
       "3849  Vascular Plant  Hedysarum alpinum var. americanum   \n",
       "\n",
       "                                           common_names conservation_status  \n",
       "1501                                      Wild Licorice                 NaN  \n",
       "1771    Virginia Copperleaf, Virginia Threeseed Mercury                 NaN  \n",
       "3090                                 Barrow's Goldeneye                 NaN  \n",
       "5206  California Milkweed, Round-Hood Milkweed, Wool...                 NaN  \n",
       "3849                         American Alpine Sweetvetch                 NaN  "
      ]
     },
     "execution_count": 2,
     "metadata": {},
     "output_type": "execute_result"
    }
   ],
   "source": [
    "species = pd.read_csv('species_info.csv')\n",
    "species.sample(5)"
   ]
  },
  {
   "cell_type": "markdown",
   "metadata": {},
   "source": [
    "#### observations\n",
    "\n",
    "The observations dataframe holds recorded sightings of different species at several national parks for the past 7 days.\n",
    "\n",
    "The columns in the datset include:\n",
    "- **scientific_name** - the scientific name of each species\n",
    "- **park_name** - Park where species were found\n",
    "- **observations** - the number of times each species was observed at park"
   ]
  },
  {
   "cell_type": "code",
   "execution_count": 3,
   "metadata": {},
   "outputs": [
    {
     "data": {
      "text/html": [
       "<div>\n",
       "<style scoped>\n",
       "    .dataframe tbody tr th:only-of-type {\n",
       "        vertical-align: middle;\n",
       "    }\n",
       "\n",
       "    .dataframe tbody tr th {\n",
       "        vertical-align: top;\n",
       "    }\n",
       "\n",
       "    .dataframe thead th {\n",
       "        text-align: right;\n",
       "    }\n",
       "</style>\n",
       "<table border=\"1\" class=\"dataframe\">\n",
       "  <thead>\n",
       "    <tr style=\"text-align: right;\">\n",
       "      <th></th>\n",
       "      <th>scientific_name</th>\n",
       "      <th>park_name</th>\n",
       "      <th>observations</th>\n",
       "    </tr>\n",
       "  </thead>\n",
       "  <tbody>\n",
       "    <tr>\n",
       "      <th>22874</th>\n",
       "      <td>Lepidium sativum</td>\n",
       "      <td>Bryce National Park</td>\n",
       "      <td>90</td>\n",
       "    </tr>\n",
       "    <tr>\n",
       "      <th>21375</th>\n",
       "      <td>Veronica serpyllifolia ssp. humifusa</td>\n",
       "      <td>Yosemite National Park</td>\n",
       "      <td>111</td>\n",
       "    </tr>\n",
       "    <tr>\n",
       "      <th>3475</th>\n",
       "      <td>Epipactis gigantea</td>\n",
       "      <td>Yosemite National Park</td>\n",
       "      <td>137</td>\n",
       "    </tr>\n",
       "    <tr>\n",
       "      <th>6878</th>\n",
       "      <td>Rhamnus ilicifolia</td>\n",
       "      <td>Great Smoky Mountains National Park</td>\n",
       "      <td>111</td>\n",
       "    </tr>\n",
       "    <tr>\n",
       "      <th>10144</th>\n",
       "      <td>Lupinus adsurgens</td>\n",
       "      <td>Yellowstone National Park</td>\n",
       "      <td>253</td>\n",
       "    </tr>\n",
       "  </tbody>\n",
       "</table>\n",
       "</div>"
      ],
      "text/plain": [
       "                            scientific_name  \\\n",
       "22874                      Lepidium sativum   \n",
       "21375  Veronica serpyllifolia ssp. humifusa   \n",
       "3475                     Epipactis gigantea   \n",
       "6878                     Rhamnus ilicifolia   \n",
       "10144                     Lupinus adsurgens   \n",
       "\n",
       "                                 park_name  observations  \n",
       "22874                  Bryce National Park            90  \n",
       "21375               Yosemite National Park           111  \n",
       "3475                Yosemite National Park           137  \n",
       "6878   Great Smoky Mountains National Park           111  \n",
       "10144            Yellowstone National Park           253  "
      ]
     },
     "execution_count": 3,
     "metadata": {},
     "output_type": "execute_result"
    }
   ],
   "source": [
    "observations = pd.read_csv('observations.csv')\n",
    "observations.sample(5)"
   ]
  },
  {
   "cell_type": "markdown",
   "metadata": {},
   "source": [
    "#### Data Characteristics\n",
    "Characteristics of each dataset are explored below.\n",
    "- The species data set contains 5,824 rows and 4 columns.\n",
    "- The observations data set contains 23,296 rows and 3 columns."
   ]
  },
  {
   "cell_type": "code",
   "execution_count": 4,
   "metadata": {},
   "outputs": [
    {
     "name": "stdout",
     "output_type": "stream",
     "text": [
      "species shape: (5824, 4)\n",
      "observations shape: (23296, 3)\n"
     ]
    }
   ],
   "source": [
    "print('species shape: ' + str(species.shape))\n",
    "print('observations shape: ' + str(observations.shape))"
   ]
  },
  {
   "cell_type": "markdown",
   "metadata": {},
   "source": [
    "## Data Exploration\n",
    "#### species\n",
    "- 77% of the species fall under the category 'Vascular Plant'.\n",
    "- 84% of species have a reported conservation status of 'Species of Concern'. \n",
    "- The dataset includes four categories of species: Mammal, Bird, Reptile, Amphibian, Fish, Vascular Plant, and Nonvascular Plant.\n",
    "- The dataset includes three conservation statuses: Species of Concern, Endangered, Threatened, In Recovery\n",
    "- The majority of the conservation status column is 'nan' values, indicating the species is not under conservation status.\n",
    "    - The datset was updated to change 'nan' values to 'No Intervention'."
   ]
  },
  {
   "cell_type": "code",
   "execution_count": 5,
   "metadata": {},
   "outputs": [
    {
     "name": "stdout",
     "output_type": "stream",
     "text": [
      "              category scientific_name   common_names conservation_status\n",
      "count             5824            5824           5824                 191\n",
      "unique               7            5541           5504                   4\n",
      "top     Vascular Plant   Columba livia  Dicranum Moss  Species of Concern\n",
      "freq              4470               3              7                 161\n"
     ]
    }
   ],
   "source": [
    "print(species.describe())"
   ]
  },
  {
   "cell_type": "code",
   "execution_count": 6,
   "metadata": {},
   "outputs": [
    {
     "data": {
      "text/plain": [
       "category\n",
       "Reptile                79\n",
       "Amphibian              80\n",
       "Fish                  127\n",
       "Mammal                214\n",
       "Nonvascular Plant     333\n",
       "Bird                  521\n",
       "Vascular Plant       4470\n",
       "dtype: int64"
      ]
     },
     "execution_count": 6,
     "metadata": {},
     "output_type": "execute_result"
    }
   ],
   "source": [
    "species.groupby('category').size().sort_values()"
   ]
  },
  {
   "cell_type": "code",
   "execution_count": 7,
   "metadata": {},
   "outputs": [
    {
     "data": {
      "text/plain": [
       "conservation_status\n",
       "In Recovery              4\n",
       "Threatened              10\n",
       "Endangered              16\n",
       "Species of Concern     161\n",
       "No Intervention       5633\n",
       "dtype: int64"
      ]
     },
     "execution_count": 7,
     "metadata": {},
     "output_type": "execute_result"
    }
   ],
   "source": [
    "species['conservation_status'].fillna('No Intervention', inplace=True)\n",
    "species.groupby('conservation_status').size().sort_values()"
   ]
  },
  {
   "cell_type": "markdown",
   "metadata": {},
   "source": [
    "#### observations\n",
    "- The minimum and maximum number of observations made of a species are 9 and 321, respectively. The average is 142.\n",
    "- A total of 3,314,739 observations were made over the 7 days.\n",
    "- The dataset includes four national parks: Great Smoky Mountains, Yosemite, Bryce, and Yellowstone\n",
    "- An equal number of species were observed from each park."
   ]
  },
  {
   "cell_type": "code",
   "execution_count": 8,
   "metadata": {},
   "outputs": [
    {
     "name": "stdout",
     "output_type": "stream",
     "text": [
      "       observations\n",
      "count  23296.000000\n",
      "mean     142.287904\n",
      "std       69.890532\n",
      "min        9.000000\n",
      "25%       86.000000\n",
      "50%      124.000000\n",
      "75%      195.000000\n",
      "max      321.000000\n"
     ]
    }
   ],
   "source": [
    "print(observations.describe())"
   ]
  },
  {
   "cell_type": "code",
   "execution_count": 9,
   "metadata": {},
   "outputs": [
    {
     "name": "stdout",
     "output_type": "stream",
     "text": [
      "3314739\n"
     ]
    }
   ],
   "source": [
    "print(observations.observations.sum())"
   ]
  },
  {
   "cell_type": "code",
   "execution_count": 10,
   "metadata": {},
   "outputs": [
    {
     "name": "stdout",
     "output_type": "stream",
     "text": [
      "       scientific_name                  park_name\n",
      "count            23296                      23296\n",
      "unique            5541                          4\n",
      "top        Canis lupus  Yellowstone National Park\n",
      "freq                12                       5824\n"
     ]
    }
   ],
   "source": [
    "print(observations.describe(include=[object]))"
   ]
  },
  {
   "cell_type": "code",
   "execution_count": 11,
   "metadata": {},
   "outputs": [
    {
     "name": "stdout",
     "output_type": "stream",
     "text": [
      "park_name\n",
      "Bryce National Park                    5824\n",
      "Great Smoky Mountains National Park    5824\n",
      "Yellowstone National Park              5824\n",
      "Yosemite National Park                 5824\n",
      "dtype: int64\n"
     ]
    }
   ],
   "source": [
    "print(observations.groupby('park_name').size())"
   ]
  },
  {
   "cell_type": "markdown",
   "metadata": {},
   "source": [
    "## Analysis\n",
    "#### Protected Species\n",
    "- Birds have the highest count of protected species, while Nonvascular Plants and Reptiles have the lowest count.\n",
    "- Though Birds have the highest number of protected species, Mammals have the highest percentage of protected species."
   ]
  },
  {
   "cell_type": "code",
   "execution_count": 12,
   "metadata": {},
   "outputs": [
    {
     "data": {
      "text/html": [
       "<div>\n",
       "<style scoped>\n",
       "    .dataframe tbody tr th:only-of-type {\n",
       "        vertical-align: middle;\n",
       "    }\n",
       "\n",
       "    .dataframe tbody tr th {\n",
       "        vertical-align: top;\n",
       "    }\n",
       "\n",
       "    .dataframe thead th {\n",
       "        text-align: right;\n",
       "    }\n",
       "</style>\n",
       "<table border=\"1\" class=\"dataframe\">\n",
       "  <thead>\n",
       "    <tr style=\"text-align: right;\">\n",
       "      <th></th>\n",
       "      <th>category</th>\n",
       "      <th>not_protected</th>\n",
       "      <th>protected</th>\n",
       "      <th>perc_protected</th>\n",
       "    </tr>\n",
       "  </thead>\n",
       "  <tbody>\n",
       "    <tr>\n",
       "      <th>0</th>\n",
       "      <td>Mammal</td>\n",
       "      <td>146</td>\n",
       "      <td>30</td>\n",
       "      <td>17.045455</td>\n",
       "    </tr>\n",
       "    <tr>\n",
       "      <th>1</th>\n",
       "      <td>Bird</td>\n",
       "      <td>413</td>\n",
       "      <td>75</td>\n",
       "      <td>15.368852</td>\n",
       "    </tr>\n",
       "    <tr>\n",
       "      <th>2</th>\n",
       "      <td>Amphibian</td>\n",
       "      <td>72</td>\n",
       "      <td>7</td>\n",
       "      <td>8.860759</td>\n",
       "    </tr>\n",
       "    <tr>\n",
       "      <th>3</th>\n",
       "      <td>Fish</td>\n",
       "      <td>115</td>\n",
       "      <td>11</td>\n",
       "      <td>8.730159</td>\n",
       "    </tr>\n",
       "    <tr>\n",
       "      <th>4</th>\n",
       "      <td>Reptile</td>\n",
       "      <td>73</td>\n",
       "      <td>5</td>\n",
       "      <td>6.410256</td>\n",
       "    </tr>\n",
       "    <tr>\n",
       "      <th>5</th>\n",
       "      <td>Nonvascular Plant</td>\n",
       "      <td>328</td>\n",
       "      <td>5</td>\n",
       "      <td>1.501502</td>\n",
       "    </tr>\n",
       "    <tr>\n",
       "      <th>6</th>\n",
       "      <td>Vascular Plant</td>\n",
       "      <td>4216</td>\n",
       "      <td>46</td>\n",
       "      <td>1.079305</td>\n",
       "    </tr>\n",
       "  </tbody>\n",
       "</table>\n",
       "</div>"
      ],
      "text/plain": [
       "            category  not_protected  protected  perc_protected\n",
       "0             Mammal            146         30       17.045455\n",
       "1               Bird            413         75       15.368852\n",
       "2          Amphibian             72          7        8.860759\n",
       "3               Fish            115         11        8.730159\n",
       "4            Reptile             73          5        6.410256\n",
       "5  Nonvascular Plant            328          5        1.501502\n",
       "6     Vascular Plant           4216         46        1.079305"
      ]
     },
     "execution_count": 12,
     "metadata": {},
     "output_type": "execute_result"
    }
   ],
   "source": [
    "species['is_protected'] = species.conservation_status != 'No Intervention'\n",
    "categories = species.groupby(['category', 'is_protected'])\\\n",
    "                        .scientific_name.nunique()\\\n",
    "                        .reset_index().pivot(columns='is_protected',index='category', values='scientific_name')\\\n",
    "                        .reset_index()\n",
    "categories.columns = ['category', 'not_protected', 'protected']\n",
    "categories['perc_protected'] = categories.protected/(categories.protected + categories.not_protected) * 100\n",
    "categories = categories.sort_values('perc_protected', ascending=False).reset_index(drop=True)\n",
    "categories"
   ]
  },
  {
   "cell_type": "code",
   "execution_count": 13,
   "metadata": {},
   "outputs": [
    {
     "data": {
      "image/png": "[encoded data removed]",
      "text/plain": [
       "<Figure size 1080x360 with 2 Axes>"
      ]
     },
     "metadata": {
      "needs_background": "light"
     },
     "output_type": "display_data"
    }
   ],
   "source": [
    "fig = plt.figure(figsize=(15, 5))\n",
    "plt.subplot(1,2,1)\n",
    "sns.barplot(data=categories, x='perc_protected', y='category')\n",
    "plt.xlabel('Percentage of Species Protected')\n",
    "plt.ylabel('')\n",
    "\n",
    "plt.subplot(1,2,2)\n",
    "sns.barplot(data=categories, x='protected', y='category')\n",
    "plt.xlabel('Number of Species Protected')\n",
    "plt.ylabel('')\n",
    "\n",
    "plt.subplots_adjust(wspace=.5)"
   ]
  },
  {
   "cell_type": "markdown",
   "metadata": {},
   "source": [
    "#### Conservation Status\n",
    "The four conservation statuses are defined as follows:\n",
    "- **Species of Concern** - declining or appear to be in need of conservation\n",
    "- **Threatened** - vulnerable to endangerment in the near future\n",
    "- **Endangered** - seriously at risk of extinction\n",
    "- **In Recovery** - formerly Endangered, but currently not in danger of extinction"
   ]
  },
  {
   "cell_type": "markdown",
   "metadata": {},
   "source": [
    "- 84% of protected species fall under 'Species of Concern' status.\n",
    "- The majority of species with 'Species of Concern' status are birds. "
   ]
  },
  {
   "cell_type": "code",
   "execution_count": 14,
   "metadata": {},
   "outputs": [
    {
     "data": {
      "text/html": [
       "<div>\n",
       "<style scoped>\n",
       "    .dataframe tbody tr th:only-of-type {\n",
       "        vertical-align: middle;\n",
       "    }\n",
       "\n",
       "    .dataframe tbody tr th {\n",
       "        vertical-align: top;\n",
       "    }\n",
       "\n",
       "    .dataframe thead th {\n",
       "        text-align: right;\n",
       "    }\n",
       "</style>\n",
       "<table border=\"1\" class=\"dataframe\">\n",
       "  <thead>\n",
       "    <tr style=\"text-align: right;\">\n",
       "      <th>category</th>\n",
       "      <th>Amphibian</th>\n",
       "      <th>Bird</th>\n",
       "      <th>Fish</th>\n",
       "      <th>Mammal</th>\n",
       "      <th>Nonvascular Plant</th>\n",
       "      <th>Reptile</th>\n",
       "      <th>Vascular Plant</th>\n",
       "    </tr>\n",
       "    <tr>\n",
       "      <th>conservation_status</th>\n",
       "      <th></th>\n",
       "      <th></th>\n",
       "      <th></th>\n",
       "      <th></th>\n",
       "      <th></th>\n",
       "      <th></th>\n",
       "      <th></th>\n",
       "    </tr>\n",
       "  </thead>\n",
       "  <tbody>\n",
       "    <tr>\n",
       "      <th>Endangered</th>\n",
       "      <td>1.0</td>\n",
       "      <td>4.0</td>\n",
       "      <td>3.0</td>\n",
       "      <td>7.0</td>\n",
       "      <td>NaN</td>\n",
       "      <td>NaN</td>\n",
       "      <td>1.0</td>\n",
       "    </tr>\n",
       "    <tr>\n",
       "      <th>In Recovery</th>\n",
       "      <td>NaN</td>\n",
       "      <td>3.0</td>\n",
       "      <td>NaN</td>\n",
       "      <td>1.0</td>\n",
       "      <td>NaN</td>\n",
       "      <td>NaN</td>\n",
       "      <td>NaN</td>\n",
       "    </tr>\n",
       "    <tr>\n",
       "      <th>Species of Concern</th>\n",
       "      <td>4.0</td>\n",
       "      <td>72.0</td>\n",
       "      <td>4.0</td>\n",
       "      <td>28.0</td>\n",
       "      <td>5.0</td>\n",
       "      <td>5.0</td>\n",
       "      <td>43.0</td>\n",
       "    </tr>\n",
       "    <tr>\n",
       "      <th>Threatened</th>\n",
       "      <td>2.0</td>\n",
       "      <td>NaN</td>\n",
       "      <td>4.0</td>\n",
       "      <td>2.0</td>\n",
       "      <td>NaN</td>\n",
       "      <td>NaN</td>\n",
       "      <td>2.0</td>\n",
       "    </tr>\n",
       "  </tbody>\n",
       "</table>\n",
       "</div>"
      ],
      "text/plain": [
       "category             Amphibian  Bird  Fish  Mammal  Nonvascular Plant  \\\n",
       "conservation_status                                                     \n",
       "Endangered                 1.0   4.0   3.0     7.0                NaN   \n",
       "In Recovery                NaN   3.0   NaN     1.0                NaN   \n",
       "Species of Concern         4.0  72.0   4.0    28.0                5.0   \n",
       "Threatened                 2.0   NaN   4.0     2.0                NaN   \n",
       "\n",
       "category             Reptile  Vascular Plant  \n",
       "conservation_status                           \n",
       "Endangered               NaN             1.0  \n",
       "In Recovery              NaN             NaN  \n",
       "Species of Concern       5.0            43.0  \n",
       "Threatened               NaN             2.0  "
      ]
     },
     "execution_count": 14,
     "metadata": {},
     "output_type": "execute_result"
    }
   ],
   "source": [
    "conservation_df = species[species.conservation_status != 'No Intervention']\\\n",
    ".groupby(['conservation_status', 'category'])['scientific_name']\\\n",
    ".count().unstack()\n",
    "\n",
    "conservation_df"
   ]
  },
  {
   "cell_type": "code",
   "execution_count": 15,
   "metadata": {},
   "outputs": [
    {
     "data": {
      "text/plain": [
       "Text(0.5, 0, '')"
      ]
     },
     "execution_count": 15,
     "metadata": {},
     "output_type": "execute_result"
    },
    {
     "data": {
      "image/png": "[encoded data removed]",
      "text/plain": [
       "<Figure size 432x288 with 1 Axes>"
      ]
     },
     "metadata": {
      "needs_background": "light"
     },
     "output_type": "display_data"
    }
   ],
   "source": [
    "ax = conservation_df.plot(kind = 'bar', stacked=True)\n",
    "ax.set_title('Conservation Status of Protected Species')\n",
    "ax.set_ylabel(\"Number of Species\")\n",
    "ax.set_xlabel('')"
   ]
  },
  {
   "cell_type": "markdown",
   "metadata": {},
   "source": [
    "#### Statistical Significance\n",
    "A series of Chi Squared Contingency tests were performed to understand if one category of species is statistically more likely to be protected than another.\n",
    "\n",
    "Statistical signifance was identified for the following comparisons:\n",
    "- All categories are statistically more likely to be protected than Nonvascular and Vascular Plants.\n",
    "- Mammals are statistically more likely to be protected than Reptiles."
   ]
  },
  {
   "cell_type": "code",
   "execution_count": 18,
   "metadata": {},
   "outputs": [
    {
     "data": {
      "text/html": [
       "<div>\n",
       "<style scoped>\n",
       "    .dataframe tbody tr th:only-of-type {\n",
       "        vertical-align: middle;\n",
       "    }\n",
       "\n",
       "    .dataframe tbody tr th {\n",
       "        vertical-align: top;\n",
       "    }\n",
       "\n",
       "    .dataframe thead th {\n",
       "        text-align: right;\n",
       "    }\n",
       "</style>\n",
       "<table border=\"1\" class=\"dataframe\">\n",
       "  <thead>\n",
       "    <tr style=\"text-align: right;\">\n",
       "      <th></th>\n",
       "      <th>category</th>\n",
       "      <th>not_protected</th>\n",
       "      <th>protected</th>\n",
       "      <th>perc_protected</th>\n",
       "    </tr>\n",
       "  </thead>\n",
       "  <tbody>\n",
       "    <tr>\n",
       "      <th>0</th>\n",
       "      <td>Mammal</td>\n",
       "      <td>146</td>\n",
       "      <td>30</td>\n",
       "      <td>17.045455</td>\n",
       "    </tr>\n",
       "    <tr>\n",
       "      <th>1</th>\n",
       "      <td>Bird</td>\n",
       "      <td>413</td>\n",
       "      <td>75</td>\n",
       "      <td>15.368852</td>\n",
       "    </tr>\n",
       "    <tr>\n",
       "      <th>2</th>\n",
       "      <td>Amphibian</td>\n",
       "      <td>72</td>\n",
       "      <td>7</td>\n",
       "      <td>8.860759</td>\n",
       "    </tr>\n",
       "    <tr>\n",
       "      <th>3</th>\n",
       "      <td>Fish</td>\n",
       "      <td>115</td>\n",
       "      <td>11</td>\n",
       "      <td>8.730159</td>\n",
       "    </tr>\n",
       "    <tr>\n",
       "      <th>4</th>\n",
       "      <td>Reptile</td>\n",
       "      <td>73</td>\n",
       "      <td>5</td>\n",
       "      <td>6.410256</td>\n",
       "    </tr>\n",
       "    <tr>\n",
       "      <th>5</th>\n",
       "      <td>Nonvascular Plant</td>\n",
       "      <td>328</td>\n",
       "      <td>5</td>\n",
       "      <td>1.501502</td>\n",
       "    </tr>\n",
       "    <tr>\n",
       "      <th>6</th>\n",
       "      <td>Vascular Plant</td>\n",
       "      <td>4216</td>\n",
       "      <td>46</td>\n",
       "      <td>1.079305</td>\n",
       "    </tr>\n",
       "  </tbody>\n",
       "</table>\n",
       "</div>"
      ],
      "text/plain": [
       "            category  not_protected  protected  perc_protected\n",
       "0             Mammal            146         30       17.045455\n",
       "1               Bird            413         75       15.368852\n",
       "2          Amphibian             72          7        8.860759\n",
       "3               Fish            115         11        8.730159\n",
       "4            Reptile             73          5        6.410256\n",
       "5  Nonvascular Plant            328          5        1.501502\n",
       "6     Vascular Plant           4216         46        1.079305"
      ]
     },
     "execution_count": 18,
     "metadata": {},
     "output_type": "execute_result"
    }
   ],
   "source": [
    "categories"
   ]
  },
  {
   "cell_type": "code",
   "execution_count": 21,
   "metadata": {},
   "outputs": [
    {
     "name": "stdout",
     "output_type": "stream",
     "text": [
      "Mammal, Reptile = 0.03835559022969898\n",
      "Mammal, Nonvascular Plant = 1.481868915759314e-10\n",
      "Bird, Nonvascular Plant = 1.0546306904975004e-10\n",
      "Amphibian, Nonvascular Plant = 0.001778554820715609\n",
      "Fish, Nonvascular Plant = 0.0004960633228752838\n",
      "Reptile, Mammal = 0.03835559022969898\n",
      "Reptile, Nonvascular Plant = 0.0336269831072617\n",
      "Nonvascular Plant, Mammal = 1.481868915759314e-10\n",
      "Nonvascular Plant, Bird = 1.0546306904974968e-10\n",
      "Nonvascular Plant, Amphibian = 0.001778554820715609\n",
      "Nonvascular Plant, Fish = 0.0004960633228752838\n",
      "Nonvascular Plant, Reptile = 0.03362698310726171\n"
     ]
    }
   ],
   "source": [
    "from scipy.stats import chi2_contingency\n",
    "\n",
    "cat1 = categories.category[:-1].values\n",
    "\n",
    "for a in cat1:\n",
    "    for b in cat1:\n",
    "        if a != b:\n",
    "            table = [[categories[categories.category == a].protected.values[0],\\\n",
    "                     categories[categories.category == a].not_protected.values[0]],\\\n",
    "                     [categories[categories.category == b].protected.values[0],\\\n",
    "                     categories[categories.category == b].not_protected.values[0]]]\n",
    "            chi2 = chi2_contingency(table)\n",
    "            p_val = chi2[1]\n",
    "            if p_val < 0.05:\n",
    "                print(str(a) + ', ' + str(b) + ' = ' + str(p_val))"
   ]
  },
  {
   "cell_type": "markdown",
   "metadata": {},
   "source": [
    "#### Park Observations\n",
    "The series and observation datasets were merged on the scientific name to gain more information on the species observed in the parks.\n",
    "\n",
    "'National Park' was removed from the park names for better visualization."
   ]
  },
  {
   "cell_type": "code",
   "execution_count": 22,
   "metadata": {},
   "outputs": [
    {
     "data": {
      "text/html": [
       "<div>\n",
       "<style scoped>\n",
       "    .dataframe tbody tr th:only-of-type {\n",
       "        vertical-align: middle;\n",
       "    }\n",
       "\n",
       "    .dataframe tbody tr th {\n",
       "        vertical-align: top;\n",
       "    }\n",
       "\n",
       "    .dataframe thead th {\n",
       "        text-align: right;\n",
       "    }\n",
       "</style>\n",
       "<table border=\"1\" class=\"dataframe\">\n",
       "  <thead>\n",
       "    <tr style=\"text-align: right;\">\n",
       "      <th></th>\n",
       "      <th>scientific_name</th>\n",
       "      <th>park_name</th>\n",
       "      <th>observations</th>\n",
       "      <th>category</th>\n",
       "      <th>common_names</th>\n",
       "      <th>conservation_status</th>\n",
       "      <th>is_protected</th>\n",
       "    </tr>\n",
       "  </thead>\n",
       "  <tbody>\n",
       "    <tr>\n",
       "      <th>19527</th>\n",
       "      <td>Galium pilosum</td>\n",
       "      <td>Yellowstone</td>\n",
       "      <td>218</td>\n",
       "      <td>Vascular Plant</td>\n",
       "      <td>Hairy Bedstraw</td>\n",
       "      <td>No Intervention</td>\n",
       "      <td>False</td>\n",
       "    </tr>\n",
       "    <tr>\n",
       "      <th>6938</th>\n",
       "      <td>Cassiope mertensiana</td>\n",
       "      <td>Bryce</td>\n",
       "      <td>80</td>\n",
       "      <td>Vascular Plant</td>\n",
       "      <td>Western Moss Heather, White Heather</td>\n",
       "      <td>No Intervention</td>\n",
       "      <td>False</td>\n",
       "    </tr>\n",
       "    <tr>\n",
       "      <th>4768</th>\n",
       "      <td>Heuchera longiflora</td>\n",
       "      <td>Bryce</td>\n",
       "      <td>100</td>\n",
       "      <td>Vascular Plant</td>\n",
       "      <td>Alumroot, Long-Flower Alumroot</td>\n",
       "      <td>No Intervention</td>\n",
       "      <td>False</td>\n",
       "    </tr>\n",
       "    <tr>\n",
       "      <th>15710</th>\n",
       "      <td>Festuca saximontana</td>\n",
       "      <td>Smoky Mountains</td>\n",
       "      <td>71</td>\n",
       "      <td>Vascular Plant</td>\n",
       "      <td>Mountain Fescue, Rocky Mountain Fescue</td>\n",
       "      <td>No Intervention</td>\n",
       "      <td>False</td>\n",
       "    </tr>\n",
       "    <tr>\n",
       "      <th>18857</th>\n",
       "      <td>Potamogeton amplifolius</td>\n",
       "      <td>Yellowstone</td>\n",
       "      <td>254</td>\n",
       "      <td>Vascular Plant</td>\n",
       "      <td>Largeleaf Pondweed</td>\n",
       "      <td>No Intervention</td>\n",
       "      <td>False</td>\n",
       "    </tr>\n",
       "  </tbody>\n",
       "</table>\n",
       "</div>"
      ],
      "text/plain": [
       "               scientific_name        park_name  observations        category  \\\n",
       "19527           Galium pilosum      Yellowstone           218  Vascular Plant   \n",
       "6938      Cassiope mertensiana            Bryce            80  Vascular Plant   \n",
       "4768       Heuchera longiflora            Bryce           100  Vascular Plant   \n",
       "15710      Festuca saximontana  Smoky Mountains            71  Vascular Plant   \n",
       "18857  Potamogeton amplifolius      Yellowstone           254  Vascular Plant   \n",
       "\n",
       "                                 common_names conservation_status  \\\n",
       "19527                          Hairy Bedstraw     No Intervention   \n",
       "6938      Western Moss Heather, White Heather     No Intervention   \n",
       "4768           Alumroot, Long-Flower Alumroot     No Intervention   \n",
       "15710  Mountain Fescue, Rocky Mountain Fescue     No Intervention   \n",
       "18857                      Largeleaf Pondweed     No Intervention   \n",
       "\n",
       "       is_protected  \n",
       "19527         False  \n",
       "6938          False  \n",
       "4768          False  \n",
       "15710         False  \n",
       "18857         False  "
      ]
     },
     "execution_count": 22,
     "metadata": {},
     "output_type": "execute_result"
    }
   ],
   "source": [
    "joined = observations.merge(species, on = 'scientific_name')\n",
    "joined.replace({'Yosemite National Park': 'Yosemite',\n",
    "                'Bryce National Park': 'Bryce',\n",
    "                'Yellowstone National Park': 'Yellowstone',\n",
    "                'Great Smoky Mountains National Park': 'Smoky Mountains'}, inplace=True)\n",
    "                \n",
    "joined.sample(5)"
   ]
  },
  {
   "cell_type": "markdown",
   "metadata": {},
   "source": [
    "- The most observations were made at Yosemite National Park, and the least were made at Great Smoky Mountain National Park.\n",
    "- The majority of observations were of Vascular Plants."
   ]
  },
  {
   "cell_type": "code",
   "execution_count": 24,
   "metadata": {
    "scrolled": true
   },
   "outputs": [
    {
     "data": {
      "text/plain": [
       "Text(0, 0.5, 'Observations')"
      ]
     },
     "execution_count": 24,
     "metadata": {},
     "output_type": "execute_result"
    },
    {
     "data": {
      "image/png": "[encoded data removed]",
      "text/plain": [
       "<Figure size 864x288 with 2 Axes>"
      ]
     },
     "metadata": {
      "needs_background": "light"
     },
     "output_type": "display_data"
    }
   ],
   "source": [
    "fig = plt.figure(figsize=(12,4))\n",
    "\n",
    "plt.subplot(1,2,1)\n",
    "sns.barplot(data=joined.sort_values('observations',ascending=False), x='park_name', y=\"observations\", ci=None, estimator=sum)\n",
    "plt.xticks(rotation=45)\n",
    "plt.xlabel('')\n",
    "plt.ylabel('Observations')\n",
    "\n",
    "plt.subplot(1,2,2)\n",
    "sns.barplot(data=joined.sort_values('observations',ascending=False), x='category', y=\"observations\", ci=None, estimator=sum)\n",
    "plt.xticks(rotation=45)\n",
    "plt.xlabel('')\n",
    "plt.ylabel('Observations')"
   ]
  },
  {
   "cell_type": "code",
   "execution_count": 25,
   "metadata": {},
   "outputs": [
    {
     "data": {
      "text/html": [
       "<div>\n",
       "<style scoped>\n",
       "    .dataframe tbody tr th:only-of-type {\n",
       "        vertical-align: middle;\n",
       "    }\n",
       "\n",
       "    .dataframe tbody tr th {\n",
       "        vertical-align: top;\n",
       "    }\n",
       "\n",
       "    .dataframe thead th {\n",
       "        text-align: right;\n",
       "    }\n",
       "</style>\n",
       "<table border=\"1\" class=\"dataframe\">\n",
       "  <thead>\n",
       "    <tr style=\"text-align: right;\">\n",
       "      <th>park_name</th>\n",
       "      <th>Bryce</th>\n",
       "      <th>Smoky Mountains</th>\n",
       "      <th>Yellowstone</th>\n",
       "      <th>Yosemite</th>\n",
       "    </tr>\n",
       "    <tr>\n",
       "      <th>category</th>\n",
       "      <th></th>\n",
       "      <th></th>\n",
       "      <th></th>\n",
       "      <th></th>\n",
       "    </tr>\n",
       "  </thead>\n",
       "  <tbody>\n",
       "    <tr>\n",
       "      <th>Amphibian</th>\n",
       "      <td>7542</td>\n",
       "      <td>5876</td>\n",
       "      <td>19937</td>\n",
       "      <td>11713</td>\n",
       "    </tr>\n",
       "    <tr>\n",
       "      <th>Bird</th>\n",
       "      <td>58590</td>\n",
       "      <td>42869</td>\n",
       "      <td>144300</td>\n",
       "      <td>86612</td>\n",
       "    </tr>\n",
       "    <tr>\n",
       "      <th>Fish</th>\n",
       "      <td>12823</td>\n",
       "      <td>9482</td>\n",
       "      <td>31459</td>\n",
       "      <td>19137</td>\n",
       "    </tr>\n",
       "    <tr>\n",
       "      <th>Mammal</th>\n",
       "      <td>28830</td>\n",
       "      <td>21056</td>\n",
       "      <td>70701</td>\n",
       "      <td>42533</td>\n",
       "    </tr>\n",
       "    <tr>\n",
       "      <th>Nonvascular Plant</th>\n",
       "      <td>32992</td>\n",
       "      <td>24857</td>\n",
       "      <td>83021</td>\n",
       "      <td>49783</td>\n",
       "    </tr>\n",
       "    <tr>\n",
       "      <th>Reptile</th>\n",
       "      <td>8141</td>\n",
       "      <td>5841</td>\n",
       "      <td>20061</td>\n",
       "      <td>11779</td>\n",
       "    </tr>\n",
       "    <tr>\n",
       "      <th>Vascular Plant</th>\n",
       "      <td>484373</td>\n",
       "      <td>364882</td>\n",
       "      <td>1218162</td>\n",
       "      <td>727895</td>\n",
       "    </tr>\n",
       "  </tbody>\n",
       "</table>\n",
       "</div>"
      ],
      "text/plain": [
       "park_name           Bryce  Smoky Mountains  Yellowstone  Yosemite\n",
       "category                                                         \n",
       "Amphibian            7542             5876        19937     11713\n",
       "Bird                58590            42869       144300     86612\n",
       "Fish                12823             9482        31459     19137\n",
       "Mammal              28830            21056        70701     42533\n",
       "Nonvascular Plant   32992            24857        83021     49783\n",
       "Reptile              8141             5841        20061     11779\n",
       "Vascular Plant     484373           364882      1218162    727895"
      ]
     },
     "execution_count": 25,
     "metadata": {},
     "output_type": "execute_result"
    }
   ],
   "source": [
    "joined.groupby(['category', 'park_name']).observations.sum().unstack()"
   ]
  },
  {
   "cell_type": "markdown",
   "metadata": {},
   "source": [
    "## Conclusion\n",
    "\n",
    "This project was able to answer some of the questions first posed in the beginning:\n",
    "- What is the distribution of conservation status for species?\n",
    " - The majority of species were not part of conservation efforts (191/5,633 protected species).\n",
    "- Are certain types of species more likely to be protected?\n",
    " - Mammals and Birds showed the highest percentage of protected species.\n",
    "- Are the differences between species and their conservation status significant?\n",
    " - Yes, some species are statistically more likely to be protected than others.\n",
    "- Where were the most observations made? What was the most observed species?\n",
    " - The most observations were made at Yellowstone National Park. The most observed species were those of the Vascular Plant species."
   ]
  },
  {
   "cell_type": "markdown",
   "metadata": {},
   "source": [
    "## Moving Forward\n",
    "Only seven days of data were collected for the observations data. A longer observation time may provide a better representation. Additionally, there may be changes in observation with the seasons."
   ]
  }
 ],
 "metadata": {
  "kernelspec": {
   "display_name": "Python 3",
   "language": "python",
   "name": "python3"
  },
  "language_info": {
   "codemirror_mode": {
    "name": "ipython",
    "version": 3
   },
   "file_extension": ".py",
   "mimetype": "text/x-python",
   "name": "python",
   "nbconvert_exporter": "python",
   "pygments_lexer": "ipython3",
   "version": "3.8.5"
  }
 },
 "nbformat": 4,
 "nbformat_minor": 4
}
